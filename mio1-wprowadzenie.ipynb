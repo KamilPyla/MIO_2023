{
 "cells": [
  {
   "cell_type": "markdown",
   "metadata": {
    "id": "XDLOQ_kBtThi"
   },
   "source": [
    "*dr hab. inż. Szymon Łukasik , prof. AGH [slukasik@agh.edu.pl], dr hab. inż. Piotr Kowalski, prof. AGH [pkowal@agh.edu.pl], mgr Karolina Wadowska [wadowska@agh.edu.pl], mgr inż. Maciej Trzciński [mtrzcins@agh.edu.pl]*\n",
    "\n",
    "*Wydział Fizyki i Informatyki Stosowanej AGH, 27.02.2023*\n",
    "\n",
    "## Zajęcia wprowadzające\n",
    "\n",
    "**Plan zajęć laboratoryjnych**\n",
    "\n",
    "Temat 1-4: Sztuczne sieci neuronowe\n",
    "\n",
    "Temat 5-6: Logika rozmyta – najpierw proste problemy a potem modelowanie\n",
    "\n",
    "Temat 7-8: Algorytmy genetyczne i ewolucyjne oraz algorytmy rojowe.\n",
    "\n",
    "Laboratoria prowadzone będą przy użyciu narzędzia Google Colab i języka python, jednak nie są Państwo ograniczeni w wyborze narzędzi, pod warunkiem, że będą Państwo realizować przedstawiane zadania.\n",
    "\n",
    "**Zasady oceniania**\n",
    "\n",
    "Obecność na laboratoriach jest obowiązkowa. Dopuszczalna jest jedna nieobecność na zajęciach laboratoryjnych. Zajęcia można odrobić – w miarę dostępności miejsc – w innej grupie laboratoryjnej. Student zobligowany jest w najkrótszym możliwym terminie zgłosić się do prowadzącego zajęcia w celu ustalenia terminu odrobienia zajęć\n",
    "\n",
    "W przypadku niemożliwości odrobienia zajęć lub większej liczby nieobecności istnieje możliwość uzupełnienia ich w formie indywidualnego zadania domowego.\n",
    "\n",
    "Student, który bez usprawiedliwienia opuścił więcej niż 50% zajęć i jego cząstkowe wyniki w nauce były negatywne może zostać pozbawiony przez prowadzącego zajęcia możliwości wyrównania zaległości. Od takiej decyzji prowadzącego zajęcia student może się odwołać do prowadzącego przedmiot i/lub Dziekana.\n",
    "\n",
    "Na wszystkich zajęciach poza pierwszymi i ostatnimi do wykonania będą sprawozdania z zadań z przedstawieniem wyników i wniosków. Razem z kodem należy dosłać je na odpowiedniej grupie na MS Teams najpóźniej do rozpoczęcia następnych laboratoriów. Za każde sprawozdanie można otrzymać 0, 0.5 lub 1 punkt. Wysłanie sprawozdań po terminie będzie skutkowało niższą punktacją.\n",
    "\n",
    "Na ostatnich zajęciach laboratoryjnych odbędzie się kolokwium, w którym można zdobyć 12 punktów. Z 20 punktów do zdobycia na laboratoriach (8 za sprawozdania i 12 za kolokwium) zostanie przyznana ocena zgodnie z regulaminem studiów, która stanowić będzie 2/3 oceny za przedmiot.\n",
    "\n",
    "**Projekt i ocena końcowa**\n",
    "\n",
    "Po zakończeniu zajęć laboratoryjnych realizacja projektów związanych z tematyką ćwiczeń. Projekt w formie konsultacji. \n",
    "\n",
    "Ocena końcowa to średnia ważona z laboratoriów (waga 2/3) oraz projektów zespołowych obejmującego samodzielne rozwiązanie wybranego problemu inżynierskiego z użyciem metod sztucznej inteligencji (waga 1/3).\n",
    "\n",
    "**Konsultacje**\n",
    "\n",
    "Po uzgodnieniu mailowym lub przez MS Teams.\n",
    "\n",
    "**Materiały uzupełniające**\n",
    "\n",
    "Znajdziecie Państwo na kanale kursu na MS Teams."
   ]
  },
  {
   "cell_type": "markdown",
   "metadata": {
    "id": "WwaD8gvnzouC"
   },
   "source": [
    "## Przydatne narzędzia\n",
    "\n",
    "Scikit Learn, narzędzia do analizy danych i uczenia maszynowego w języku python: https://scikit-learn.org/\n",
    "\n",
    "Pytorch, duży i popularny framework do budowania zaawansowanych sieci neuronowych w języku python: https://pytorch.org/, https://pytorch.org/tutorials/beginner/basics/intro.html\n",
    "\n",
    "Keras, duży i popularny framework do budowania zaawansowanych sieci neuronowych w języku python: https://keras.io/, https://keras.io/examples/\n",
    "\n",
    "Repozytoria zbiorów danych do wykorzystania w uczeniu maszynowym: https://archive.ics.uci.edu/ml/index.php, https://huggingface.co/datasets\n",
    "\n",
    "Bardzo wygodne narzędzie do rysowania wykresów: https://matplotlib.org/stable/tutorials/index.html\n"
   ]
  },
  {
   "cell_type": "markdown",
   "metadata": {
    "id": "fLW7zqTouQV-"
   },
   "source": [
    "### Test środowiska i colaba (nieobowiązkowy)\n",
    "\n",
    "Uruchamiając poniższą komórkę mogą Państwo zobaczyć, czy na maszynie posiadają państwo potrzebne środowisko. W colabie nie powinno być żadnych problemów z uruchomieniem komórek."
   ]
  },
  {
   "cell_type": "code",
   "execution_count": null,
   "metadata": {
    "colab": {
     "base_uri": "https://localhost:8080/"
    },
    "id": "vMnmS8d0umEu",
    "outputId": "72d91ab7-6e53-4ffe-c0e7-b9c972c07c5a"
   },
   "outputs": [],
   "source": [
    "# przykład ze strony https://scikit-learn.org/stable/modules/neural_networks_supervised.html\n",
    "# przykład prostej sieci neuronowej służącej do klasyfikacji\n",
    "\n",
    "from sklearn.neural_network import MLPClassifier\n",
    "X = [[0., 0.], [0., -1.], [0.,1.], [1.,0.], [1., 1.], [2.,1.]]\n",
    "y = [0, 0, 0, 1, 1, 1]\n",
    "\n",
    "# będziemy używać algorytmu SGD (Stochastic Gradient Descent), nasza sieć będzie składała się z 2 ukrytych warstw po 5 i 2 neurony każda.\n",
    "# sieć będzie trenowana maksymalnie 100 epok, lub do momentu, gdy względna poprawa będzie mniejsza niż tol (0.001)\n",
    "clf = MLPClassifier(solver='sgd', alpha=1e-5, hidden_layer_sizes=(5, 2), random_state=1, max_iter = 100, tol = 0.001)\n",
    "\n",
    "# wytrenuj sieć\n",
    "clf.fit(X, y)\n",
    "\n",
    "# spróbuj przewidzieć wartości dla dwóch punktów\n",
    "clf.predict([[2., 2.], [-1., -2.]])"
   ]
  },
  {
   "cell_type": "code",
   "execution_count": null,
   "metadata": {
    "colab": {
     "base_uri": "https://localhost:8080/"
    },
    "id": "f9s6jPYeiohJ",
    "outputId": "a357e996-c039-498a-eae6-a6679e9f1d37"
   },
   "outputs": [],
   "source": [
    "# wagi sieci neuronowej\n",
    "clf.coefs_"
   ]
  },
  {
   "cell_type": "code",
   "execution_count": null,
   "metadata": {
    "colab": {
     "base_uri": "https://localhost:8080/"
    },
    "id": "Nq9wjL-Wi5gm",
    "outputId": "acddf513-347d-4ed5-d234-5af0d414bed2"
   },
   "outputs": [],
   "source": [
    "# biasy sieci neuronowej\n",
    "clf.intercepts_"
   ]
  },
  {
   "cell_type": "code",
   "execution_count": null,
   "metadata": {
    "colab": {
     "base_uri": "https://localhost:8080/",
     "height": 265
    },
    "id": "zDWJym1Lkl8d",
    "outputId": "454b9333-456a-4faf-93d8-28984e731de0"
   },
   "outputs": [],
   "source": [
    "# przykład rysowania wyniku klasyfikacji dokonanej przez sieć neuronową\n",
    "\n",
    "import matplotlib.pyplot as plt\n",
    "from random import uniform\n",
    "\n",
    "x_locations = [uniform(-3.,3.) for i in range(80)]\n",
    "y_locations = [uniform(-3.,3.) for i in range(80)]\n",
    "\n",
    "test_set = [[x_locations[i],y_locations[i]] for i in range(80)]\n",
    "results = clf.predict(test_set)\n",
    "\n",
    "\n",
    "plt.scatter(x_locations, y_locations, c=results)\n",
    "plt.show()\n"
   ]
  }
 ],
 "metadata": {
  "colab": {
   "provenance": []
  },
  "kernelspec": {
   "display_name": "Python 3.10.6 64-bit",
   "language": "python",
   "name": "python3"
  },
  "language_info": {
   "codemirror_mode": {
    "name": "ipython",
    "version": 3
   },
   "file_extension": ".py",
   "mimetype": "text/x-python",
   "name": "python",
   "nbconvert_exporter": "python",
   "pygments_lexer": "ipython3",
   "version": "3.10.6"
  },
  "vscode": {
   "interpreter": {
    "hash": "916dbcbb3f70747c44a77c7bcd40155683ae19c65e1c03b4aa3499c5328201f1"
   }
  }
 },
 "nbformat": 4,
 "nbformat_minor": 1
}
